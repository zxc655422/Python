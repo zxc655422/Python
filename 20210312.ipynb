{
 "cells": [
  {
   "cell_type": "markdown",
   "metadata": {},
   "source": [
    "## 資料型別\n",
    "python屬於動態類型變數，使用前不需要宣告資料型態"
   ]
  },
  {
   "cell_type": "code",
   "execution_count": 1,
   "metadata": {},
   "outputs": [
    {
     "name": "stdout",
     "output_type": "stream",
     "text": [
      "<class 'int'>\n",
      "<class 'float'>\n",
      "<class 'str'>\n"
     ]
    }
   ],
   "source": [
    "x=254\n",
    "print(type(x))\n",
    "y=254.0\n",
    "print(type(y))\n",
    "z='write'\n",
    "print(type(z))"
   ]
  },
  {
   "cell_type": "markdown",
   "metadata": {},
   "source": [
    "## 算術符號"
   ]
  },
  {
   "cell_type": "code",
   "execution_count": 2,
   "metadata": {},
   "outputs": [
    {
     "name": "stdout",
     "output_type": "stream",
     "text": [
      "3.3333333333333335\n",
      "3\n",
      "1\n"
     ]
    }
   ],
   "source": [
    "x=10\n",
    "y=3\n",
    "print(x/y)  #除法\n",
    "print(x//y) #求商\n",
    "print(x%y)  #求餘數"
   ]
  },
  {
   "cell_type": "markdown",
   "metadata": {},
   "source": [
    "### 注意數字的正確性"
   ]
  },
  {
   "cell_type": "code",
   "execution_count": 3,
   "metadata": {},
   "outputs": [
    {
     "name": "stdout",
     "output_type": "stream",
     "text": [
      "0.0015926269999999576\n"
     ]
    }
   ],
   "source": [
    "x=3.141592627\n",
    "print(x-3.14) #比正確值略小"
   ]
  },
  {
   "cell_type": "markdown",
   "metadata": {},
   "source": [
    "## 關係比較"
   ]
  },
  {
   "cell_type": "code",
   "execution_count": 4,
   "metadata": {},
   "outputs": [
    {
     "name": "stdout",
     "output_type": "stream",
     "text": [
      "True\n",
      "False\n",
      "20\n"
     ]
    }
   ],
   "source": [
    "print(10==10)\n",
    "x, y = 10, 20\n",
    "print(x==y) # == 關係比較\n",
    "x=y         # =  指派值 \n",
    "print(x)"
   ]
  },
  {
   "cell_type": "markdown",
   "metadata": {},
   "source": [
    "## 關係運算，以閏年為例"
   ]
  },
  {
   "cell_type": "code",
   "execution_count": 6,
   "metadata": {},
   "outputs": [
    {
     "name": "stdout",
     "output_type": "stream",
     "text": [
      "False\n",
      "True\n",
      "False\n",
      "True\n"
     ]
    }
   ],
   "source": [
    "y=2010\n",
    "print(y%4==0 and y%100!=0 or y%400==0)\n",
    "y=2012\n",
    "print(y%4==0 and y%100!=0 or y%400==0)\n",
    "y=1900\n",
    "print(y%4==0 and y%100!=0 or y%400==0)\n",
    "y=2000\n",
    "print(y%4==0 and y%100!=0 or y%400==0)"
   ]
  },
  {
   "cell_type": "markdown",
   "metadata": {},
   "source": [
    "## 型態轉換"
   ]
  },
  {
   "cell_type": "code",
   "execution_count": 9,
   "metadata": {},
   "outputs": [
    {
     "name": "stdout",
     "output_type": "stream",
     "text": [
      "mustmustmustmustmustmustmustmustmustmust\n",
      "10must\n"
     ]
    }
   ],
   "source": [
    "#小心不同型態之間所得到的結果跟想像不同\n",
    "x=\"must\"\n",
    "print(10*x)\n",
    "print(\"10\"+x)"
   ]
  },
  {
   "cell_type": "code",
   "execution_count": 10,
   "metadata": {},
   "outputs": [
    {
     "name": "stdout",
     "output_type": "stream",
     "text": [
      "<class 'int'>\n",
      "<class 'float'>\n",
      "123\n",
      "123\n",
      "123\n"
     ]
    }
   ],
   "source": [
    "x=12\n",
    "print(type(x))\n",
    "y=float(x)+0.5 # 強制型態轉換\n",
    "print(type(y))\n",
    "print(int(\"123\"))\n",
    "print(int(123.33))\n",
    "print(int(float(\"123.33\")))"
   ]
  },
  {
   "cell_type": "code",
   "execution_count": 13,
   "metadata": {},
   "outputs": [
    {
     "name": "stdout",
     "output_type": "stream",
     "text": [
      "The value of x is 32.5 and y is 40000\n",
      "The value of x is 32.5 and y is 40000\n",
      "The value of x is 32.5 and y is 40000\n"
     ]
    }
   ],
   "source": [
    "#字串的型別轉換\n",
    "x=10*3.25 #x=32.5\n",
    "y=200*200 #y=40000\n",
    "s=\"The value of x is \"+str(x)+' and y is '+str(y)\n",
    "print(s)\n",
    "print(\"The value of x is\",x,\"and y is\",y)\n",
    "print(\"The value of x is {} and y is {}\".format(x,y))"
   ]
  },
  {
   "cell_type": "markdown",
   "metadata": {},
   "source": [
    "## 非內建模組"
   ]
  },
  {
   "cell_type": "code",
   "execution_count": 14,
   "metadata": {},
   "outputs": [
    {
     "name": "stdout",
     "output_type": "stream",
     "text": [
      "3.141592653589793\n",
      "8.0\n",
      "26.423892221536985\n",
      "5.0\n"
     ]
    }
   ],
   "source": [
    "import math\n",
    "print(math.pi)\n",
    "print(math.pow(2,3))\n",
    "print(8.3*10.58*math.sin(37.0/180*math.pi)/2)\n",
    "print(math.sqrt(25))"
   ]
  },
  {
   "cell_type": "markdown",
   "metadata": {},
   "source": [
    "### 範例:算圓面積"
   ]
  },
  {
   "cell_type": "code",
   "execution_count": 17,
   "metadata": {},
   "outputs": [
    {
     "name": "stdout",
     "output_type": "stream",
     "text": [
      "請輸入圓的半徑：10\n",
      "圓面積為： 314.1592653589793\n"
     ]
    }
   ],
   "source": [
    "import math\n",
    "r=input(\"請輸入圓的半徑：\")\n",
    "area=float(r)*float(r)*math.pi\n",
    "print(\"圓面積為：\",area)"
   ]
  },
  {
   "cell_type": "markdown",
   "metadata": {},
   "source": [
    "## 應用題：算矩形面積"
   ]
  },
  {
   "cell_type": "code",
   "execution_count": 20,
   "metadata": {},
   "outputs": [
    {
     "name": "stdout",
     "output_type": "stream",
     "text": [
      "請輸入矩形的長：10\n",
      "請輸入矩形的寬：20\n",
      "矩形面積為： 200\n"
     ]
    }
   ],
   "source": [
    "import math\n",
    "r, a=input(\"請輸入矩形的長：\"),input(\"請輸入矩形的寬：\")\n",
    "area=int(r)*int(a)\n",
    "print(\"矩形面積為：\",area)"
   ]
  },
  {
   "cell_type": "code",
   "execution_count": null,
   "metadata": {},
   "outputs": [],
   "source": []
  }
 ],
 "metadata": {
  "kernelspec": {
   "display_name": "Python 3",
   "language": "python",
   "name": "python3"
  },
  "language_info": {
   "codemirror_mode": {
    "name": "ipython",
    "version": 3
   },
   "file_extension": ".py",
   "mimetype": "text/x-python",
   "name": "python",
   "nbconvert_exporter": "python",
   "pygments_lexer": "ipython3",
   "version": "3.8.5"
  }
 },
 "nbformat": 4,
 "nbformat_minor": 4
}
