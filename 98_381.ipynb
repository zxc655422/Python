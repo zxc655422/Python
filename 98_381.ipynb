{
  "nbformat": 4,
  "nbformat_minor": 0,
  "metadata": {
    "colab": {
      "name": "98-381.ipynb",
      "provenance": [],
      "collapsed_sections": []
    },
    "kernelspec": {
      "name": "python3",
      "display_name": "Python 3"
    },
    "language_info": {
      "name": "python"
    }
  },
  "cells": [
    {
      "cell_type": "markdown",
      "metadata": {
        "id": "DKO1CHvxls4T"
      },
      "source": [
        "1  \n",
        "(list的應用)"
      ]
    },
    {
      "cell_type": "code",
      "metadata": {
        "id": "qKb9G-PGIsDl",
        "colab": {
          "base_uri": "https://localhost:8080/"
        },
        "outputId": "f83fc645-0865-4923-c52b-1d4aa23405a0"
      },
      "source": [
        "list_1=['a', 'b', 'c']\n",
        "list_2=['d', 'e', 'f']\n",
        "list_3=list_1 + list_2\n",
        "list_4= list_3 * 2\n",
        "print(list_4)"
      ],
      "execution_count": null,
      "outputs": [
        {
          "output_type": "stream",
          "text": [
            "['a', 'b', 'c', 'd', 'e', 'f', 'a', 'b', 'c', 'd', 'e', 'f']\n"
          ],
          "name": "stdout"
        }
      ]
    },
    {
      "cell_type": "markdown",
      "metadata": {
        "id": "9vpD6SvGmRfI"
      },
      "source": [
        "2   \n",
        "(變數型別的計算)  \n",
        "eval函式的輸入是\"字串str\"型態的數學式，回傳則是數學式計算的結果"
      ]
    },
    {
      "cell_type": "code",
      "metadata": {
        "colab": {
          "base_uri": "https://localhost:8080/"
        },
        "id": "YqbMIu2KmDdo",
        "outputId": "2e4d49cd-f814-41ae-f6f3-97b7b10b8304"
      },
      "source": [
        "car_dist= float(eval(input(\"請輸入以公里為單位的行駛距離：\")))\n",
        "run_hour= int(eval(input(\"請輸入經過的小時數：\")))\n",
        "run_min= int(eval(input(\"請輸入經過的分鐘：\")))\n",
        "run_time= run_hour + run_min/60\n",
        "car_speed= car_dist / run_time\n",
        "print(\"汽車的時速是：\", car_speed, \"km/hr\")"
      ],
      "execution_count": null,
      "outputs": [
        {
          "output_type": "stream",
          "text": [
            "請輸入以公里為單位的行駛距離：61.1\n",
            "請輸入經過的小時數：2\n",
            "請輸入經過的分鐘：30\n",
            "汽車的時速是： 24.44 km/hr\n"
          ],
          "name": "stdout"
        }
      ]
    },
    {
      "cell_type": "markdown",
      "metadata": {
        "id": "fnx_TR_ooMBr"
      },
      "source": [
        "3  \n",
        "(變數型別與運算元的應用)  \n",
        "/ : 除法  \n",
        "//: 除法取整數  \n",
        "**: 次方  \n"
      ]
    },
    {
      "cell_type": "markdown",
      "metadata": {
        "id": "Y_5bcEPgpakB"
      },
      "source": [
        "4    \n",
        "(變數型別)  "
      ]
    },
    {
      "cell_type": "code",
      "metadata": {
        "colab": {
          "base_uri": "https://localhost:8080/"
        },
        "id": "Eku5By1Anpdm",
        "outputId": "689fef3b-feb6-4cea-824b-64da0d7836e4"
      },
      "source": [
        "age=12\n",
        "minor=False\n",
        "name=\"David\"\n",
        "weight=64.5\n",
        "zip = \"545\"\n",
        "print(type(age), type(minor), type(name), type(weight), type(zip))\n"
      ],
      "execution_count": null,
      "outputs": [
        {
          "output_type": "stream",
          "text": [
            "<class 'int'> <class 'bool'> <class 'str'> <class 'float'> <class 'str'>\n"
          ],
          "name": "stdout"
        }
      ]
    },
    {
      "cell_type": "markdown",
      "metadata": {
        "id": "Rcdm1MrPqJ1H"
      },
      "source": [
        "5    \n",
        "(變數型別)"
      ]
    },
    {
      "cell_type": "code",
      "metadata": {
        "colab": {
          "base_uri": "https://localhost:8080/"
        },
        "id": "xlkjD84Fp9rQ",
        "outputId": "a5a6fddd-520e-4667-e546-f7e93fbc9bd3"
      },
      "source": [
        "TC=input(\"請輸入攝氏溫度：\")\n",
        "TF=eval(TC) * (9/5) + 32\n",
        "message = \"攝氏\" + TC + \"度等於華氏\" + str(TF) + \"度\"\n",
        "print(message)\n",
        "print(type(TC), type(TF), type(message))"
      ],
      "execution_count": null,
      "outputs": [
        {
          "output_type": "stream",
          "text": [
            "請輸入攝氏溫度：37\n",
            "攝氏37度等於華氏98.60000000000001度\n",
            "<class 'str'> <class 'float'> <class 'str'>\n"
          ],
          "name": "stdout"
        }
      ]
    },
    {
      "cell_type": "markdown",
      "metadata": {
        "id": "vgVzJAKiq2eN"
      },
      "source": [
        "6  \n",
        "(變數運算型別)"
      ]
    },
    {
      "cell_type": "code",
      "metadata": {
        "colab": {
          "base_uri": "https://localhost:8080/"
        },
        "id": "hXIjbxzVqtrN",
        "outputId": "ce8db4b7-1cfe-4df5-a8ea-022a9f2d9a18"
      },
      "source": [
        "x1=\"0\"\n",
        "y1=4\n",
        "a=x1*y1\n",
        "print(a, type(a))\n",
        "x2=8\n",
        "y2=4\n",
        "b=x2/y2\n",
        "print(b, type(b))\n",
        "x3=10.5\n",
        "y3=1\n",
        "c=x3/y3\n",
        "print(c, type(c))"
      ],
      "execution_count": null,
      "outputs": [
        {
          "output_type": "stream",
          "text": [
            "0000 <class 'str'>\n",
            "2.0 <class 'float'>\n",
            "10.5 <class 'float'>\n"
          ],
          "name": "stdout"
        }
      ]
    },
    {
      "cell_type": "markdown",
      "metadata": {
        "id": "F2xZ_PBpsJPJ"
      },
      "source": [
        "7   \n",
        "(變數型別)"
      ]
    },
    {
      "cell_type": "code",
      "metadata": {
        "colab": {
          "base_uri": "https://localhost:8080/"
        },
        "id": "bHSXazKorGDE",
        "outputId": "0cd06d5e-fbac-43e0-971e-02181137461f"
      },
      "source": [
        "print(type(1.0), type(+1E-10), type(\"False\"), type(True))"
      ],
      "execution_count": null,
      "outputs": [
        {
          "output_type": "stream",
          "text": [
            "<class 'float'> <class 'float'> <class 'str'> <class 'bool'>\n"
          ],
          "name": "stdout"
        }
      ]
    },
    {
      "cell_type": "markdown",
      "metadata": {
        "id": "vSzmfhS9shiX"
      },
      "source": [
        "8    \n",
        "(dict應用)  \n",
        "(input輸入型別)  "
      ]
    },
    {
      "cell_type": "code",
      "metadata": {
        "colab": {
          "base_uri": "https://localhost:8080/"
        },
        "id": "8hFjm6qCsZq_",
        "outputId": "c58f002f-93dd-400a-9ac1-dd4ccf8008be"
      },
      "source": [
        "products = {1: '鉛筆', 2: '橡皮擦'}\n",
        "id=int(input('輸入產品編號：')) #題目少了int()))\n",
        "if not id in products:\n",
        "  print('該產品並不存在')\n",
        "else:\n",
        "  print(\"產品名稱為：\"+ products[id])"
      ],
      "execution_count": null,
      "outputs": [
        {
          "output_type": "stream",
          "text": [
            "輸入產品編號：2\n",
            "產品名稱為：橡皮擦\n"
          ],
          "name": "stdout"
        }
      ]
    },
    {
      "cell_type": "markdown",
      "metadata": {
        "id": "zWQnKZ5kuIMM"
      },
      "source": [
        "9  \n",
        "(變數型別)"
      ]
    },
    {
      "cell_type": "code",
      "metadata": {
        "colab": {
          "base_uri": "https://localhost:8080/"
        },
        "id": "LL08dVqztJ5P",
        "outputId": "534a5c6e-3c74-4b48-b3c3-c9160fd2d6a9"
      },
      "source": [
        "print(type(5))\n",
        "print(type(8.0))\n",
        "print(type(\"True\"))\n",
        "print(type(False))"
      ],
      "execution_count": null,
      "outputs": [
        {
          "output_type": "stream",
          "text": [
            "<class 'int'>\n",
            "<class 'float'>\n",
            "<class 'str'>\n",
            "<class 'bool'>\n"
          ],
          "name": "stdout"
        }
      ]
    },
    {
      "cell_type": "markdown",
      "metadata": {
        "id": "PhM_HJfWugkc"
      },
      "source": [
        "10  \n",
        "(型別轉換應用)"
      ]
    },
    {
      "cell_type": "code",
      "metadata": {
        "colab": {
          "base_uri": "https://localhost:8080/"
        },
        "id": "fUnq5_equZCr",
        "outputId": "2c8fa131-bcf4-4368-905e-f83d5435ce45"
      },
      "source": [
        "#total = int(input(\"請輸入總數?\")) #原來程式會有錯誤\n",
        "total = eval(input(\"請輸入總數?\"))\n",
        "total = int(total)\n",
        "print(total, type(total))\n"
      ],
      "execution_count": null,
      "outputs": [
        {
          "output_type": "stream",
          "text": [
            "請輸入總數?100.1\n",
            "100 <class 'int'>\n"
          ],
          "name": "stdout"
        }
      ]
    },
    {
      "cell_type": "markdown",
      "metadata": {
        "id": "3cfDRIBYwckm"
      },
      "source": [
        "11  \n"
      ]
    },
    {
      "cell_type": "code",
      "metadata": {
        "colab": {
          "base_uri": "https://localhost:8080/"
        },
        "id": "8pxCdK1au32x",
        "outputId": "8b9edd93-9999-46e0-f080-1bd6b1668d6f"
      },
      "source": [
        "def reverse_str(oStr):\n",
        "  reStr=\"\"\n",
        "  for index in range(len(oStr)-1, -1, -1): #(1)\n",
        "    reStr += oStr[index] #(2)\n",
        "  return reStr\n",
        "print(reverse_str(\"Madam I'm Adam\"))"
      ],
      "execution_count": null,
      "outputs": [
        {
          "output_type": "stream",
          "text": [
            "madA m'I madaM\n"
          ],
          "name": "stdout"
        }
      ]
    },
    {
      "cell_type": "markdown",
      "metadata": {
        "id": "DaGiuN1qyie5"
      },
      "source": [
        "12  \n",
        "(型別轉換)"
      ]
    },
    {
      "cell_type": "code",
      "metadata": {
        "colab": {
          "base_uri": "https://localhost:8080/"
        },
        "id": "nghxkBHFxIEc",
        "outputId": "25332a38-c962-448e-aba1-a763001d12bd"
      },
      "source": [
        "time_start = input(\"早上上班時間是幾點?\")\n",
        "time_end = input(\"下午下班時間是幾點?\")\n",
        "print(\"本日上班時間：\"+ str(int(time_end)-int(time_start))+\"小時\")"
      ],
      "execution_count": null,
      "outputs": [
        {
          "output_type": "stream",
          "text": [
            "早上上班時間是幾點?9\n",
            "下午下班時間是幾點?17\n",
            "本日上班時間：8小時\n"
          ],
          "name": "stdout"
        }
      ]
    },
    {
      "cell_type": "markdown",
      "metadata": {
        "id": "I2jRFBg6zNjW"
      },
      "source": [
        "13  \n",
        "(字串取值)"
      ]
    },
    {
      "cell_type": "code",
      "metadata": {
        "colab": {
          "base_uri": "https://localhost:8080/"
        },
        "id": "jGMdtgLqzGDY",
        "outputId": "c6488750-607b-4efa-cea4-952899185ebc"
      },
      "source": [
        "astr=\"abcdefghijklmnopqrstuvwxyz\"\n",
        "print(astr[5:20])\n",
        "print(astr[5:20:3])\n",
        "print(astr[20:5:-3])\n",
        "print(astr[::-3])\n",
        "print(astr[3:15:-1])"
      ],
      "execution_count": null,
      "outputs": [
        {
          "output_type": "stream",
          "text": [
            "fghijklmnopqrst\n",
            "filor\n",
            "uroli\n",
            "zwtqnkheb\n",
            "\n"
          ],
          "name": "stdout"
        }
      ]
    },
    {
      "cell_type": "markdown",
      "metadata": {
        "id": "NxxGMhDw0MCV"
      },
      "source": [
        "14   \n",
        "(list取值)"
      ]
    },
    {
      "cell_type": "code",
      "metadata": {
        "colab": {
          "base_uri": "https://localhost:8080/"
        },
        "id": "3CFn9oyezsd1",
        "outputId": "e167840b-e8af-41ef-e178-bd8154430534"
      },
      "source": [
        "members=list(range(1,51))\n",
        "print(members)\n",
        "#print(member[-5:0])無法執行 #A\n",
        "print(members[0:-5]) #B\n",
        "#members[1:-5 無法執行 #C\n",
        "print(members[:-5]) #D\n",
        "print(members[1:5]) #E"
      ],
      "execution_count": null,
      "outputs": [
        {
          "output_type": "stream",
          "text": [
            "[1, 2, 3, 4, 5, 6, 7, 8, 9, 10, 11, 12, 13, 14, 15, 16, 17, 18, 19, 20, 21, 22, 23, 24, 25, 26, 27, 28, 29, 30, 31, 32, 33, 34, 35, 36, 37, 38, 39, 40, 41, 42, 43, 44, 45, 46, 47, 48, 49, 50]\n",
            "[1, 2, 3, 4, 5, 6, 7, 8, 9, 10, 11, 12, 13, 14, 15, 16, 17, 18, 19, 20, 21, 22, 23, 24, 25, 26, 27, 28, 29, 30, 31, 32, 33, 34, 35, 36, 37, 38, 39, 40, 41, 42, 43, 44, 45]\n",
            "[1, 2, 3, 4, 5, 6, 7, 8, 9, 10, 11, 12, 13, 14, 15, 16, 17, 18, 19, 20, 21, 22, 23, 24, 25, 26, 27, 28, 29, 30, 31, 32, 33, 34, 35, 36, 37, 38, 39, 40, 41, 42, 43, 44, 45]\n",
            "[2, 3, 4, 5]\n"
          ],
          "name": "stdout"
        }
      ]
    },
    {
      "cell_type": "markdown",
      "metadata": {
        "id": "dNqWnsSvC1_3"
      },
      "source": [
        "15  \n",
        "(list取值)"
      ]
    },
    {
      "cell_type": "code",
      "metadata": {
        "id": "KhDCqHJ80Vfi",
        "colab": {
          "base_uri": "https://localhost:8080/"
        },
        "outputId": "df34a36c-2f30-4499-c182-7e174812a2ba"
      },
      "source": [
        "#本題要取出星期2,星期4,星期6\n",
        "weeks=[1,2,3,4,5,6,7]\n",
        "print(weeks[2:2])\n",
        "print(weeks[::2])\n",
        "print(weeks[1::2])\n",
        "print(weeks[1:2])"
      ],
      "execution_count": null,
      "outputs": [
        {
          "output_type": "stream",
          "text": [
            "[]\n",
            "[1, 3, 5, 7]\n",
            "[2, 4, 6]\n",
            "[2]\n"
          ],
          "name": "stdout"
        }
      ]
    },
    {
      "cell_type": "markdown",
      "metadata": {
        "id": "q3VbJhxCDrl6"
      },
      "source": [
        "16  \n",
        "(算式表示)"
      ]
    },
    {
      "cell_type": "code",
      "metadata": {
        "colab": {
          "base_uri": "https://localhost:8080/"
        },
        "id": "BhSRPj2wDf7p",
        "outputId": "5d1c5ac8-205a-4dc2-df10-e60d41b3096b"
      },
      "source": [
        "x=eval(input(\"輸入一個數字：\"))\n",
        "y=(x+7)**2\n",
        "print(y)"
      ],
      "execution_count": null,
      "outputs": [
        {
          "output_type": "stream",
          "text": [
            "輸入一個數字：10\n",
            "289\n"
          ],
          "name": "stdout"
        }
      ]
    },
    {
      "cell_type": "markdown",
      "metadata": {
        "id": "seJL190tEZK9"
      },
      "source": [
        "17  \n",
        "(not的應用)"
      ]
    },
    {
      "cell_type": "code",
      "metadata": {
        "colab": {
          "base_uri": "https://localhost:8080/"
        },
        "id": "94Tu8s7OEAVU",
        "outputId": "c26b99ae-3aa3-49a2-dd7f-143231b55f49"
      },
      "source": [
        "def get_discount(kid, girl):\n",
        "  discount = 0.2\n",
        "  if not (kid or girl):\n",
        "    discount=0\n",
        "  return discount\n",
        "\n",
        "print(\"discount=\", get_discount(True,False))"
      ],
      "execution_count": null,
      "outputs": [
        {
          "output_type": "stream",
          "text": [
            "discount= 0.2\n"
          ],
          "name": "stdout"
        }
      ]
    },
    {
      "cell_type": "markdown",
      "metadata": {
        "id": "UiGwr8abFk1F"
      },
      "source": [
        "18  \n",
        "(Bool的應用)"
      ]
    },
    {
      "cell_type": "code",
      "metadata": {
        "colab": {
          "base_uri": "https://localhost:8080/"
        },
        "id": "tZxDxjZJE9uk",
        "outputId": "10969442-93f9-479b-ad94-cdfd286d4d23"
      },
      "source": [
        "print(0 or 2)\n",
        "print(bool()) #轉換bool型態，沒參數回傳False\n",
        "print(None == None)\n",
        "print(-2<0<2)"
      ],
      "execution_count": null,
      "outputs": [
        {
          "output_type": "stream",
          "text": [
            "2\n",
            "False\n",
            "True\n",
            "True\n"
          ],
          "name": "stdout"
        }
      ]
    },
    {
      "cell_type": "markdown",
      "metadata": {
        "id": "pgLf4fgpHKe2"
      },
      "source": [
        "19  \n",
        "(運算子優先順序)"
      ]
    },
    {
      "cell_type": "code",
      "metadata": {
        "colab": {
          "base_uri": "https://localhost:8080/"
        },
        "id": "E5HQDG69HWte",
        "outputId": "4d02ab0e-03ce-4870-b82a-b764a4b665a5"
      },
      "source": [
        "print((5*(1+2)**2-3+4/2))"
      ],
      "execution_count": null,
      "outputs": [
        {
          "output_type": "stream",
          "text": [
            "44.0\n"
          ],
          "name": "stdout"
        }
      ]
    },
    {
      "cell_type": "markdown",
      "metadata": {
        "id": "P2GLDjG7GF0Y"
      },
      "source": [
        "20  \n",
        "(變數應用)"
      ]
    },
    {
      "cell_type": "code",
      "metadata": {
        "colab": {
          "base_uri": "https://localhost:8080/"
        },
        "id": "kv3t5O8KFwLA",
        "outputId": "a8bd1ed2-e85b-4d6b-9d94-26ad87282649"
      },
      "source": [
        "a='Apple'\n",
        "print(a)\n",
        "b='Banana'\n",
        "a+=b\n",
        "b=a\n",
        "print(a)\n",
        "print(b)"
      ],
      "execution_count": null,
      "outputs": [
        {
          "output_type": "stream",
          "text": [
            "Apple\n",
            "AppleBanana\n",
            "AppleBanana\n"
          ],
          "name": "stdout"
        }
      ]
    },
    {
      "cell_type": "markdown",
      "metadata": {
        "id": "ckukVg_KGgfa"
      },
      "source": [
        "21  \n",
        "(運算子優先順序)"
      ]
    },
    {
      "cell_type": "code",
      "metadata": {
        "colab": {
          "base_uri": "https://localhost:8080/"
        },
        "id": "tPzWlWtcGein",
        "outputId": "b1bf99ea-f1fd-4532-c626-1977ea211fda"
      },
      "source": [
        "def calc(a,b,c,d):\n",
        "  value=(a-b)/c+d\n",
        "  return value\n",
        "print(calc(1,1,1,2))"
      ],
      "execution_count": null,
      "outputs": [
        {
          "output_type": "stream",
          "text": [
            "2.0\n"
          ],
          "name": "stdout"
        }
      ]
    },
    {
      "cell_type": "markdown",
      "metadata": {
        "id": "pvFU3UVXHBgK"
      },
      "source": [
        "22  \n",
        "(運算子優先順序)\n",
        "() > ** > +- > * / > + - > or"
      ]
    },
    {
      "cell_type": "markdown",
      "metadata": {
        "id": "ZQOaK0y7INuu"
      },
      "source": [
        "23  \n",
        "(for迴圈與if判斷式)"
      ]
    },
    {
      "cell_type": "code",
      "metadata": {
        "colab": {
          "base_uri": "https://localhost:8080/"
        },
        "id": "OoMEjtpfG_ba",
        "outputId": "a5395aae-363b-4274-cf6d-4671fb354fa4"
      },
      "source": [
        "def count_word(word, words_list):\n",
        "  count=0\n",
        "  for keyword in words_list:\n",
        "    if keyword == word:\n",
        "      count+=1\n",
        "  return count\n",
        "words_list=['i','am','a','boy','you','are','a','girl']\n",
        "word=input(\"你想要查詢哪個單字的數量?\")\n",
        "wtotal=count_word(word, words_list)\n",
        "print(\"在文章中一共有':\", wtotal,\"個單字\", word)\n"
      ],
      "execution_count": null,
      "outputs": [
        {
          "output_type": "stream",
          "text": [
            "你想要查詢哪個單字的數量?a\n",
            "在文章中一共有': 2 個單字 a\n"
          ],
          "name": "stdout"
        }
      ]
    },
    {
      "cell_type": "markdown",
      "metadata": {
        "id": "LGDqx78RJieT"
      },
      "source": [
        "24  \n",
        "(if判斷式應用)"
      ]
    },
    {
      "cell_type": "code",
      "metadata": {
        "colab": {
          "base_uri": "https://localhost:8080/"
        },
        "id": "0uNQF_o4JSda",
        "outputId": "ab8b61ba-4ffa-449c-ea88-238185cb0998"
      },
      "source": [
        "ontime=input(\"機車是在晚上10點前返還的嗎? y或n:\").lower() #轉小寫\n",
        "days_rented = int(input(\"機車出租了幾天?\"))\n",
        "day_rented = input(\"機車是在星期幾出租的?\").capitalize() #首字大寫\n",
        "cost_per_day = 500\n",
        "if ontime == 'n':\n",
        "  days_rented += 1\n",
        "if day_rented == 'Wednesday':\n",
        "  total = (days_rented * cost_per_day) * 0.9\n",
        "if day_rented == 'Saturday':\n",
        "  total = (days_rented * cost_per_day) * 0.8\n",
        "print(\"機車的租借費用為:$\", total)\n"
      ],
      "execution_count": null,
      "outputs": [
        {
          "output_type": "stream",
          "text": [
            "機車是在晚上10點前返還的嗎? y或n:y\n",
            "機車出租了幾天?3\n",
            "機車是在星期幾出租的?saturday\n",
            "機車的租借費用為:$ 1200.0\n"
          ],
          "name": "stdout"
        }
      ]
    },
    {
      "cell_type": "markdown",
      "metadata": {
        "id": "y3tv1ePULFLc"
      },
      "source": [
        "25  \n",
        "(if判斷式應用與None)"
      ]
    },
    {
      "cell_type": "code",
      "metadata": {
        "colab": {
          "base_uri": "https://localhost:8080/"
        },
        "id": "CsshwXq3K2ci",
        "outputId": "eea6728d-dfbc-4645-ed8d-46e56dd90881"
      },
      "source": [
        "def do_times(n1,n2):\n",
        "  if (n1 is None or n2 is None):\n",
        "    return(\"你少填了被乘數與乘數\")\n",
        "  if (n1==0 or n2==0):\n",
        "    return(\"你的乘數或被乘數為0\")\n",
        "  else:\n",
        "    return n1*n2\n",
        "print(do_times(None,2))\n",
        "print(do_times(2,0))\n",
        "print(do_times(2,3))"
      ],
      "execution_count": null,
      "outputs": [
        {
          "output_type": "stream",
          "text": [
            "你少填了被乘數與乘數\n",
            "你的乘數或被乘數為0\n",
            "6\n"
          ],
          "name": "stdout"
        }
      ]
    },
    {
      "cell_type": "markdown",
      "metadata": {
        "id": "KxT_xS-rMQie"
      },
      "source": [
        "26  \n",
        "(運算子應用)"
      ]
    },
    {
      "cell_type": "code",
      "metadata": {
        "colab": {
          "base_uri": "https://localhost:8080/"
        },
        "id": "VTv9mW4kMHpC",
        "outputId": "de824966-1f16-4274-fdd1-ff16868dba7b"
      },
      "source": [
        "a=21\n",
        "b=5\n",
        "print(a/b)\n",
        "print(a//b)\n",
        "print(a%b)"
      ],
      "execution_count": null,
      "outputs": [
        {
          "output_type": "stream",
          "text": [
            "4.2\n",
            "4\n",
            "1\n"
          ],
          "name": "stdout"
        }
      ]
    },
    {
      "cell_type": "markdown",
      "metadata": {
        "id": "xdGlFbqcMiCx"
      },
      "source": [
        "27  \n",
        "(while迴圈應用)"
      ]
    },
    {
      "cell_type": "code",
      "metadata": {
        "colab": {
          "base_uri": "https://localhost:8080/"
        },
        "id": "DJQ-fyvFMgee",
        "outputId": "8b512b4e-cee4-400d-97e0-b4739a2bb625"
      },
      "source": [
        "x=0\n",
        "while x<4:\n",
        "  if x//3 == 1:\n",
        "    print(\"Apple\")\n",
        "  elif x-2 == 0:\n",
        "    print(\"Banana\")\n",
        "  elif x%3 == 0:\n",
        "    print(\"Cherry\")\n",
        "  else:\n",
        "    print(\"Fruit\")\n",
        "  x=x+1\n"
      ],
      "execution_count": null,
      "outputs": [
        {
          "output_type": "stream",
          "text": [
            "Cherry\n",
            "Fruit\n",
            "Banana\n",
            "Apple\n"
          ],
          "name": "stdout"
        }
      ]
    },
    {
      "cell_type": "markdown",
      "metadata": {
        "id": "UvIZoXN2Nhnf"
      },
      "source": [
        "28  \n",
        "(list應用)"
      ]
    },
    {
      "cell_type": "code",
      "metadata": {
        "colab": {
          "base_uri": "https://localhost:8080/"
        },
        "id": "dErnf4GkNP7Z",
        "outputId": "61aa45d6-cf7f-4cda-ceff-5ecf3f652841"
      },
      "source": [
        "slist = ['a','b','c','d','e','f']\n",
        "print('f' in slist)"
      ],
      "execution_count": null,
      "outputs": [
        {
          "output_type": "stream",
          "text": [
            "True\n"
          ],
          "name": "stdout"
        }
      ]
    },
    {
      "cell_type": "markdown",
      "metadata": {
        "id": "gFtfIucxN1WU"
      },
      "source": [
        "29  \n",
        "(==與is的應用)"
      ]
    },
    {
      "cell_type": "code",
      "metadata": {
        "colab": {
          "base_uri": "https://localhost:8080/"
        },
        "id": "qYBGKvsGNy3o",
        "outputId": "e1047cda-ab82-4703-c4ef-aa59102e5855"
      },
      "source": [
        "aList = ['a','b','c','d','e']\n",
        "bList = [1,2,3,4,5]\n",
        "print(aList is bList)\n",
        "print(aList == bList)\n",
        "aList = [1,2,3,4,5]\n",
        "print(aList is bList)\n",
        "print(aList == bList)"
      ],
      "execution_count": null,
      "outputs": [
        {
          "output_type": "stream",
          "text": [
            "False\n",
            "False\n",
            "False\n",
            "True\n"
          ],
          "name": "stdout"
        }
      ]
    },
    {
      "cell_type": "markdown",
      "metadata": {
        "id": "xNTrTNJAPvba"
      },
      "source": [
        "30  \n",
        "(if判斷式,==與!=的應用"
      ]
    },
    {
      "cell_type": "code",
      "metadata": {
        "colab": {
          "base_uri": "https://localhost:8080/"
        },
        "id": "Urr7JnbPOmfP",
        "outputId": "1be10a5c-ea2c-40ae-c3cd-a02dbde13c91"
      },
      "source": [
        "num=eval(input(\"請輸入小於100, 大於或等於50的數字：\"))\n",
        "if num < 100:\n",
        "  if num >= 50:\n",
        "    if num == 50: #原來的=是指定值\n",
        "      print('數字等於50')\n",
        "    else:\n",
        "      print('數字在範圍內')\n",
        "  else:\n",
        "    print('數字小於50')\n",
        "elif num != 100: #原來的<>是錯的\n",
        "  print('數字大於100')\n",
        "else:\n",
        "  print('數字等於100')"
      ],
      "execution_count": null,
      "outputs": [
        {
          "output_type": "stream",
          "text": [
            "請輸入小於100, 大於或等於50的數字：60\n",
            "數字在範圍內\n"
          ],
          "name": "stdout"
        }
      ]
    },
    {
      "cell_type": "markdown",
      "metadata": {
        "id": "IfuEPQI3Qt-e"
      },
      "source": [
        "31  \n",
        "(if elif else判斷式應用)"
      ]
    },
    {
      "cell_type": "code",
      "metadata": {
        "colab": {
          "base_uri": "https://localhost:8080/"
        },
        "id": "bipWx6GzQnCY",
        "outputId": "d55aaf65-153d-477b-c499-5b921a691c60"
      },
      "source": [
        "grade = int(input(\"請輸入分數：\"))\n",
        "if grade >= 90:\n",
        "  letter_grade = 'A'\n",
        "elif grade >= 80:\n",
        "  letter_grade = 'B'\n",
        "elif grade >= 70:\n",
        "  letter_grade = 'C'\n",
        "elif grade >= 60:\n",
        "  letter_grade = 'D'\n",
        "else:\n",
        "  letter_grade = 'E'\n",
        "print(\"你的等級為：\", letter_grade)"
      ],
      "execution_count": null,
      "outputs": [
        {
          "output_type": "stream",
          "text": [
            "請輸入分數：55\n",
            "你的等級為： E\n"
          ],
          "name": "stdout"
        }
      ]
    },
    {
      "cell_type": "markdown",
      "metadata": {
        "id": "P0g2kfRMR8yD"
      },
      "source": [
        "33  \n",
        "(if判斷式,邏輯與縮牌位置應用)"
      ]
    },
    {
      "cell_type": "code",
      "metadata": {
        "colab": {
          "base_uri": "https://localhost:8080/"
        },
        "id": "baBm05bQRoxe",
        "outputId": "7621c20a-3732-48ca-df8b-4da91a0bc15e"
      },
      "source": [
        "def reResult(a):\n",
        "  if a>0:\n",
        "    answer=\"值是正數\"\n",
        "  else:\n",
        "    if a<0 :\n",
        "      answer=\"值是負數\"\n",
        "    else:\n",
        "      answer=\"值是零\"\n",
        "  return answer\n",
        "\n",
        "print(reResult(2))\n",
        "print(reResult(-2))\n",
        "print(reResult(0))"
      ],
      "execution_count": null,
      "outputs": [
        {
          "output_type": "stream",
          "text": [
            "值是正數\n",
            "值是負數\n",
            "值是零\n"
          ],
          "name": "stdout"
        }
      ]
    },
    {
      "cell_type": "markdown",
      "metadata": {
        "id": "m1zum7G7TOxC"
      },
      "source": [
        "34  \n",
        "(if判斷式應用)"
      ]
    },
    {
      "cell_type": "code",
      "metadata": {
        "colab": {
          "base_uri": "https://localhost:8080/"
        },
        "id": "6FBQaHbPS-bu",
        "outputId": "eb6d243e-b800-40d2-bce2-6885f8f99120"
      },
      "source": [
        "def ticket_fee(age,school):\n",
        "  fee=0\n",
        "  if age>=5 and school==True:\n",
        "    fee=150\n",
        "  if age>=5 and school==False:\n",
        "    if age <= 17:\n",
        "      fee=200\n",
        "    else:\n",
        "      fee=300\n",
        "  return fee\n",
        "\n",
        "print(ticket_fee(3, False))\n",
        "print(ticket_fee(10, True))\n",
        "print(ticket_fee(10, False))\n",
        "print(ticket_fee(20, False))"
      ],
      "execution_count": null,
      "outputs": [
        {
          "output_type": "stream",
          "text": [
            "0\n",
            "150\n",
            "200\n",
            "300\n"
          ],
          "name": "stdout"
        }
      ]
    },
    {
      "cell_type": "markdown",
      "metadata": {
        "id": "QUsPkFBkUuRk"
      },
      "source": [
        "35  \n",
        "(if判斷式應用)"
      ]
    },
    {
      "cell_type": "code",
      "metadata": {
        "colab": {
          "base_uri": "https://localhost:8080/"
        },
        "id": "9e_EsAXhUtYc",
        "outputId": "35f9881d-0083-4f36-bd2d-4850872046c8"
      },
      "source": [
        "def is_digit(n):\n",
        "  try:\n",
        "    int(n)\n",
        "    return True\n",
        "  except ValueError:\n",
        "    return False\n",
        "num=input(\"請輸入一個正整數:\")\n",
        "if is_digit(num) and int(num)>0:\n",
        "  num=int(eval(num))\n",
        "  if num<10:\n",
        "    digits=\"1\"\n",
        "  elif num<100:\n",
        "    digits=\"2\"\n",
        "  else:\n",
        "    digits=\">2\"\n",
        "  print(digits + \"位數.\")\n",
        "else:\n",
        "  print(\"輸入值並不是數值或正整數\")"
      ],
      "execution_count": null,
      "outputs": [
        {
          "output_type": "stream",
          "text": [
            "請輸入一個正整數:1000\n",
            ">2位數.\n"
          ],
          "name": "stdout"
        }
      ]
    },
    {
      "cell_type": "markdown",
      "metadata": {
        "id": "K_RGoT06V7vM"
      },
      "source": [
        "36  \n",
        "(for迴圈應用與break, contine)"
      ]
    },
    {
      "cell_type": "code",
      "metadata": {
        "colab": {
          "base_uri": "https://localhost:8080/"
        },
        "id": "Hn4OdMCRUnNg",
        "outputId": "541f9e12-69c5-48bd-d695-3850627e3f0e"
      },
      "source": [
        "from random import randint\n",
        "answer=randint(1,100) #1~99\n",
        "print(\"猜一個從1到100的整數.你將有3次機會.\")\n",
        "print(answer)\n",
        "for i in range(3):\n",
        "  guess=int(input(\"請輸入一個整數：\"))\n",
        "  if guess > answer:\n",
        "    print(\"數字太大了，猜低一點\")\n",
        "  elif guess < answer:\n",
        "    print(\"數字太小了，猜高一點\")\n",
        "  else:\n",
        "    print(\"猜對了!\")\n",
        "print(\"終極密碼是\", answer)\n"
      ],
      "execution_count": null,
      "outputs": [
        {
          "output_type": "stream",
          "text": [
            "猜一個從1到100的整數.你將有3次機會.\n",
            "62\n",
            "請輸入一個整數：60\n",
            "數字太小了，猜高一點\n",
            "請輸入一個整數：64\n",
            "數字太大了，猜低一點\n",
            "請輸入一個整數：62\n",
            "猜對了!\n",
            "終極密碼是 62\n"
          ],
          "name": "stdout"
        }
      ]
    },
    {
      "cell_type": "markdown",
      "metadata": {
        "id": "awKgp70TXjl6"
      },
      "source": [
        "37  \n",
        "(if判斷式應用)"
      ]
    },
    {
      "cell_type": "code",
      "metadata": {
        "colab": {
          "base_uri": "https://localhost:8080/"
        },
        "id": "oOnxXDYhXCwt",
        "outputId": "246e6c02-663a-46ce-b58e-5fc2add1d6bf"
      },
      "source": [
        "from random import randint\n",
        "num=randint(1,100)\n",
        "if num % 2 == 0:\n",
        "  print(\"%d是偶數\" % num) # %後填入要在字串顯示的值\n",
        "else:\n",
        "  print(\"%d是奇數\" % num)\n"
      ],
      "execution_count": null,
      "outputs": [
        {
          "output_type": "stream",
          "text": [
            "85是奇數\n"
          ],
          "name": "stdout"
        }
      ]
    },
    {
      "cell_type": "markdown",
      "metadata": {
        "id": "UjdT9sEOYdbC"
      },
      "source": [
        "38  \n",
        "(程式結構重組)"
      ]
    },
    {
      "cell_type": "code",
      "metadata": {
        "colab": {
          "base_uri": "https://localhost:8080/"
        },
        "id": "PjWrWfV-X7eM",
        "outputId": "11b8d323-f6aa-45e1-85a4-9a1f04a2dc3d"
      },
      "source": [
        "en_name=input(\"請輸入英文姓名：\")\n",
        "if en_name.upper() == en_name:\n",
        "  print(en_name, \"是全部大寫.\")\n",
        "elif en_name.lower() == en_name:\n",
        "  print(en_name, \"是全部小寫.\")\n",
        "else:\n",
        "  print(en_name, \"是大小寫混合.\")"
      ],
      "execution_count": null,
      "outputs": [
        {
          "output_type": "stream",
          "text": [
            "請輸入英文姓名：Tony\n",
            "Tony 是大小寫混合.\n"
          ],
          "name": "stdout"
        }
      ]
    },
    {
      "cell_type": "markdown",
      "metadata": {
        "id": "s-Ec8e7QZizz"
      },
      "source": [
        "39  \n",
        "(for迴圈與continue)"
      ]
    },
    {
      "cell_type": "code",
      "metadata": {
        "colab": {
          "base_uri": "https://localhost:8080/"
        },
        "id": "X5n-_JU7ZQr_",
        "outputId": "5cb434aa-2fe1-4622-9bf6-18c8f5d58341"
      },
      "source": [
        "salaryList=[10000, 24000, 30000, 5000, 14000]\n",
        "for index in range(len(salaryList)): #答案有錯\n",
        "  if salaryList[index]>15000:\n",
        "    continue #continue直接進入下一個迴圈，不執行接下來的命令\n",
        "  salaryList[index]=18000+2000\n",
        "print(salaryList)"
      ],
      "execution_count": null,
      "outputs": [
        {
          "output_type": "stream",
          "text": [
            "[20000, 24000, 30000, 20000, 20000]\n"
          ],
          "name": "stdout"
        }
      ]
    },
    {
      "cell_type": "markdown",
      "metadata": {
        "id": "yR5oal_5alAa"
      },
      "source": [
        "40  \n",
        "(range應用)\n",
        "(答案選項錯誤)"
      ]
    },
    {
      "cell_type": "code",
      "metadata": {
        "colab": {
          "base_uri": "https://localhost:8080/"
        },
        "id": "Mb21NRClaI94",
        "outputId": "c1c61ac3-e84e-4409-8c4b-ef69dc76ad18"
      },
      "source": [
        "def show_99(): \n",
        "  for x in range(1,10):\n",
        "    for y in range(1,10):\n",
        "      print(\"{}*{}={}\".format(x,y,x*y))\n",
        "    print() #空白行\n",
        "show_99()"
      ],
      "execution_count": null,
      "outputs": [
        {
          "output_type": "stream",
          "text": [
            "1*1=1\n",
            "1*2=2\n",
            "1*3=3\n",
            "1*4=4\n",
            "1*5=5\n",
            "1*6=6\n",
            "1*7=7\n",
            "1*8=8\n",
            "1*9=9\n",
            "\n",
            "2*1=2\n",
            "2*2=4\n",
            "2*3=6\n",
            "2*4=8\n",
            "2*5=10\n",
            "2*6=12\n",
            "2*7=14\n",
            "2*8=16\n",
            "2*9=18\n",
            "\n",
            "3*1=3\n",
            "3*2=6\n",
            "3*3=9\n",
            "3*4=12\n",
            "3*5=15\n",
            "3*6=18\n",
            "3*7=21\n",
            "3*8=24\n",
            "3*9=27\n",
            "\n",
            "4*1=4\n",
            "4*2=8\n",
            "4*3=12\n",
            "4*4=16\n",
            "4*5=20\n",
            "4*6=24\n",
            "4*7=28\n",
            "4*8=32\n",
            "4*9=36\n",
            "\n",
            "5*1=5\n",
            "5*2=10\n",
            "5*3=15\n",
            "5*4=20\n",
            "5*5=25\n",
            "5*6=30\n",
            "5*7=35\n",
            "5*8=40\n",
            "5*9=45\n",
            "\n",
            "6*1=6\n",
            "6*2=12\n",
            "6*3=18\n",
            "6*4=24\n",
            "6*5=30\n",
            "6*6=36\n",
            "6*7=42\n",
            "6*8=48\n",
            "6*9=54\n",
            "\n",
            "7*1=7\n",
            "7*2=14\n",
            "7*3=21\n",
            "7*4=28\n",
            "7*5=35\n",
            "7*6=42\n",
            "7*7=49\n",
            "7*8=56\n",
            "7*9=63\n",
            "\n",
            "8*1=8\n",
            "8*2=16\n",
            "8*3=24\n",
            "8*4=32\n",
            "8*5=40\n",
            "8*6=48\n",
            "8*7=56\n",
            "8*8=64\n",
            "8*9=72\n",
            "\n",
            "9*1=9\n",
            "9*2=18\n",
            "9*3=27\n",
            "9*4=36\n",
            "9*5=45\n",
            "9*6=54\n",
            "9*7=63\n",
            "9*8=72\n",
            "9*9=81\n",
            "\n"
          ],
          "name": "stdout"
        }
      ]
    },
    {
      "cell_type": "markdown",
      "metadata": {
        "id": "DH8mtZ0hcJbe"
      },
      "source": [
        "41  \n",
        "(程式結構重組)"
      ]
    },
    {
      "cell_type": "code",
      "metadata": {
        "colab": {
          "base_uri": "https://localhost:8080/"
        },
        "id": "zUVpAYuubaf-",
        "outputId": "0994eb96-c13e-4992-f0fa-72f7aeb39edd"
      },
      "source": [
        "n=2\n",
        "while n<=50:\n",
        "  is_prime=True\n",
        "  for i in range(2,n):\n",
        "    if n % i ==0:\n",
        "      is_prime=False\n",
        "      break\n",
        "  if is_prime==True:\n",
        "    print(n) #p是錯誤的\n",
        "  n+=1"
      ],
      "execution_count": null,
      "outputs": [
        {
          "output_type": "stream",
          "text": [
            "2\n",
            "3\n",
            "5\n",
            "7\n",
            "11\n",
            "13\n",
            "17\n",
            "19\n",
            "23\n",
            "29\n",
            "31\n",
            "37\n",
            "41\n",
            "43\n",
            "47\n"
          ],
          "name": "stdout"
        }
      ]
    },
    {
      "cell_type": "markdown",
      "metadata": {
        "id": "jTLquGY2evu-"
      },
      "source": [
        "42  \n",
        "(程式結構重組)"
      ]
    },
    {
      "cell_type": "code",
      "metadata": {
        "colab": {
          "base_uri": "https://localhost:8080/"
        },
        "id": "aTRmxBrXdMnu",
        "outputId": "e05dd0ec-fdb8-4e2e-ab5b-1c8e94c1239b"
      },
      "source": [
        "def Whoisbigger(numberList, number): #少了def\n",
        "  for i in range(len(numberList)):\n",
        "    if numberList[i] > number:\n",
        "      print(\"{0}清單中找到比{1}大的值\".format(numberList,number))\n",
        "      break\n",
        "    else:\n",
        "      print(\"{0}清單中找不到比{1}大的值\".format(numberList,number))\n",
        "Whoisbigger([1,2,3,4,5,6], 3)"
      ],
      "execution_count": null,
      "outputs": [
        {
          "output_type": "stream",
          "text": [
            "[1, 2, 3, 4, 5, 6]清單中找不到比3大的值\n",
            "[1, 2, 3, 4, 5, 6]清單中找不到比3大的值\n",
            "[1, 2, 3, 4, 5, 6]清單中找不到比3大的值\n",
            "[1, 2, 3, 4, 5, 6]清單中找到比3大的值\n"
          ],
          "name": "stdout"
        }
      ]
    },
    {
      "cell_type": "markdown",
      "metadata": {
        "id": "2mMsdMyVhK18"
      },
      "source": [
        "43  \n",
        "(while迴圈應用)"
      ]
    },
    {
      "cell_type": "code",
      "metadata": {
        "colab": {
          "base_uri": "https://localhost:8080/"
        },
        "id": "9ai6dOtTfwfV",
        "outputId": "8d9eb1ac-f1f9-4845-80f8-61916ed50a1a"
      },
      "source": [
        "p_no=\"flag\" #第一次進入while使用，任何非空值之字串皆可以\n",
        "group=\"\"\n",
        "while p_no != \"\": #不輸入值即可跳開\n",
        "  valid=False\n",
        "  p_no=input(\"請輸入產品編號(dddd-dd):\")\n",
        "  group=p_no.split('-')\n",
        "  if len(group)==2: #group被-分開成2群\n",
        "    if len(group[0])==4 and len(group[1])==2:\n",
        "      if group[0].isdigit() and group[1].isdigit():\n",
        "        valid=True\n",
        "  print(valid)"
      ],
      "execution_count": null,
      "outputs": [
        {
          "output_type": "stream",
          "text": [
            "請輸入產品編號(dddd-dd):1-2-3\n",
            "False\n",
            "請輸入產品編號(dddd-dd):fddd-11\n",
            "False\n",
            "請輸入產品編號(dddd-dd):111-222\n",
            "False\n",
            "請輸入產品編號(dddd-dd):1111-22\n",
            "True\n",
            "請輸入產品編號(dddd-dd):\n",
            "False\n"
          ],
          "name": "stdout"
        }
      ]
    },
    {
      "cell_type": "markdown",
      "metadata": {
        "id": "FzO08ATPiyPh"
      },
      "source": [
        "44  \n",
        "(while迴圈應用)"
      ]
    },
    {
      "cell_type": "code",
      "metadata": {
        "colab": {
          "base_uri": "https://localhost:8080/"
        },
        "id": "ydsjPl9jiPjj",
        "outputId": "9e3f7cc4-8521-485e-8fce-d12ed5b59e28"
      },
      "source": [
        "numList=range(10) #[0,1,2,3,4,5,6,7,8,9]\n",
        "num=0\n",
        "while (num<10):\n",
        "  print(numList[num])\n",
        "  if numList[num] == 8:\n",
        "    break\n",
        "  else:\n",
        "    num +=1"
      ],
      "execution_count": null,
      "outputs": [
        {
          "output_type": "stream",
          "text": [
            "0\n",
            "1\n",
            "2\n",
            "3\n",
            "4\n",
            "5\n",
            "6\n",
            "7\n",
            "8\n"
          ],
          "name": "stdout"
        }
      ]
    },
    {
      "cell_type": "markdown",
      "metadata": {
        "id": "h0PkWo__jxyL"
      },
      "source": [
        "45  \n",
        "(os開檔、寫檔)"
      ]
    },
    {
      "cell_type": "code",
      "metadata": {
        "colab": {
          "base_uri": "https://localhost:8080/"
        },
        "id": "fDSK-vz4jMdm",
        "outputId": "30769b3e-39ac-4951-9717-c3274ff4ee60"
      },
      "source": [
        "import os\n",
        "if os.path.isfile('usefile.txt'):\n",
        "  file=open('usefile.txt')\n",
        "  print(file.read())\n",
        "  file.close()\n",
        "else: #題目少了這一行\n",
        "  file=open('usefile.txt','a') #a是新增檔案, a+是附加檔案\n",
        "  file.write('這是檔尾')\n",
        "  file.close"
      ],
      "execution_count": null,
      "outputs": [
        {
          "output_type": "stream",
          "text": [
            "這是檔尾\n"
          ],
          "name": "stdout"
        }
      ]
    },
    {
      "cell_type": "markdown",
      "metadata": {
        "id": "t09swWsIlDty"
      },
      "source": [
        "46  \n",
        "(os開檔)"
      ]
    },
    {
      "cell_type": "code",
      "metadata": {
        "colab": {
          "base_uri": "https://localhost:8080/",
          "height": 35
        },
        "id": "ezdWuI-gj5ti",
        "outputId": "eb17a8de-448b-4cab-b9fb-073226cc840c"
      },
      "source": [
        "import os\n",
        "def get_file_content(usefile):\n",
        "  if os.path.isfile(usefile):\n",
        "    with open(usefile, 'r') as file:\n",
        "      return file.read() #題目usefle.read()是錯誤的\n",
        "  else:\n",
        "    return \"檔案不存在\"\n",
        "\n",
        "get_file_content(\"usefile.txt\")"
      ],
      "execution_count": null,
      "outputs": [
        {
          "output_type": "execute_result",
          "data": {
            "application/vnd.google.colaboratory.intrinsic+json": {
              "type": "string"
            },
            "text/plain": [
              "'這是檔尾'"
            ]
          },
          "metadata": {
            "tags": []
          },
          "execution_count": 76
        }
      ]
    },
    {
      "cell_type": "markdown",
      "metadata": {
        "id": "wmCo5zcKl5op"
      },
      "source": [
        "47  \n",
        "(開檔屬性應用)\n",
        "(r:讀取, a:附加, w:寫入)\n",
        "(r+:除了讀取，還有寫入功能，檔案不存在會回傳error)\n",
        "(a+:除了附加,還有讀取功能)\n",
        "(w+:除了寫入,還有讀取功能,和r+不同處在於檔案不存在會新增一個檔)"
      ]
    },
    {
      "cell_type": "markdown",
      "metadata": {
        "id": "6Xl_j336oxXW"
      },
      "source": [
        "48  \n",
        "(開檔讀資料)\n",
        "(需新增一個staffs.txt檔案)"
      ]
    },
    {
      "cell_type": "code",
      "metadata": {
        "colab": {
          "base_uri": "https://localhost:8080/"
        },
        "id": "giavlzJKlpyp",
        "outputId": "2f864db8-f22d-4256-9b40-91e7216468e9"
      },
      "source": [
        "import os #題目忘了這行\n",
        "staffs = open(\"staffs.txt\", 'r')\n",
        "eof=False\n",
        "while eof==False:\n",
        "  line=staffs.readline()\n",
        "  if line != '':\n",
        "    if line != \"\\n\":\n",
        "      print(line.strip()) #strip()去除頭尾空白\n",
        "  else:\n",
        "    print(\"檔案結束\")\n",
        "    eof=True\n",
        "staffs.close()"
      ],
      "execution_count": null,
      "outputs": [
        {
          "output_type": "stream",
          "text": [
            "'Sales', 1, 'John'\n",
            "'Sales', 2, 'Mary'\n",
            "檔案結束\n"
          ],
          "name": "stdout"
        }
      ]
    },
    {
      "cell_type": "markdown",
      "metadata": {
        "id": "zDS8Z9EsrPVT"
      },
      "source": [
        "49  \n",
        "(input與格式應用)"
      ]
    },
    {
      "cell_type": "code",
      "metadata": {
        "colab": {
          "base_uri": "https://localhost:8080/"
        },
        "id": "i_s-BThhp5ud",
        "outputId": "4b6ec29b-5bee-48f7-9785-46e1c87a691b"
      },
      "source": [
        "star=star_count=star_done=0\n",
        "star_average=0.0\n",
        "while (star_done!=-1):\n",
        "  star_rating=float(input(\"請輸入評等(1-5),完成請輸入-1：\")) #題目star拼錯\n",
        "  if star_rating == -1:\n",
        "    break\n",
        "  star += star_rating\n",
        "  star_count += 1\n",
        "star_average = float(star/star_count)\n",
        "print(\"餐廳的平均星等是：{}\".format(star_average, '.2f')) #少了{},format少了一個."
      ],
      "execution_count": null,
      "outputs": [
        {
          "output_type": "stream",
          "text": [
            "請輸入評等(1-5),完成請輸入-1：1\n",
            "請輸入評等(1-5),完成請輸入-1：2\n",
            "請輸入評等(1-5),完成請輸入-1：3\n",
            "請輸入評等(1-5),完成請輸入-1：-1\n",
            "餐廳的平均星等是：2.0\n"
          ],
          "name": "stdout"
        }
      ]
    },
    {
      "cell_type": "markdown",
      "metadata": {
        "id": "fyFBSg_duG55"
      },
      "source": [
        "50   \n",
        "(datetime fomat格式應用)  \n",
        "%a  : 星期縮寫 *　　　　　(Mon)  \n",
        "%A  : 星期全寫 *　　　　　(Monday)  \n",
        "%w  : 星期數字  　　　　　(0 … 6)  \n",
        "%d  : 日期  　　　　　　　(01 … 31)  \n",
        "%b  : 月份縮寫 *　　　　　(Jan)  \n",
        "%B  : 月份全寫 *　　　　　(January)  \n",
        "%m  : 月份數字  　　　　　(01 … 12)  \n",
        "%y  : 西元年二位數字  　　(00 … 99)  \n",
        "%Y  : 西元年  　　　　　　(1970 … 2018)  \n",
        "%H  : 24小時制  　　　　　(00 … 23)  \n",
        "%I  : 12小時制  　　　　　(01 … 12)  \n",
        "%p  : AM 或 PM *  \n",
        "%M  : 分  　　　　　　　　(00 … 59)  \n",
        "%S  : 秒  　　　　　　　　(00 … 59)  \n",
        "%f  : 微秒，六位數字  　　(000000 … 999999)  \n",
        "%c  : 日期和時間 *　　　　(Tue Aug 16 21:30:00 2017)  \n",
        "%x  : 日期 *　　　　　　　(08/16/2017)  \n",
        "%X  : 時間 *　　　　　　　(21:30:00)  "
      ]
    },
    {
      "cell_type": "code",
      "metadata": {
        "colab": {
          "base_uri": "https://localhost:8080/"
        },
        "id": "xssoIGuUswGG",
        "outputId": "cced4820-e23a-4d7f-8fea-8fe9eae62e0a"
      },
      "source": [
        "import datetime\n",
        "data=datetime.datetime(2019,5,16)\n",
        "print(data)\n",
        "print('{:%y-%m-%d}'.format(data)) #%y兩位數 %Y四位數 \n",
        "num=12345.6789\n",
        "print('{:,.2f}'.format(num)) # :特殊格式化符號 ,三位數加一個逗號 .2f:兩位小數點"
      ],
      "execution_count": null,
      "outputs": [
        {
          "output_type": "stream",
          "text": [
            "2019-05-16 00:00:00\n",
            "19-05-16\n",
            "12,345.68\n"
          ],
          "name": "stdout"
        }
      ]
    },
    {
      "cell_type": "markdown",
      "metadata": {
        "id": "stejD2X-Buuk"
      },
      "source": [
        "51  \n",
        "(列印格式化)"
      ]
    },
    {
      "cell_type": "code",
      "metadata": {
        "id": "RBJeNQbSueVO",
        "colab": {
          "base_uri": "https://localhost:8080/"
        },
        "outputId": "ba0a8935-7c6e-4eda-8439-8ea97e674476"
      },
      "source": [
        "name=input(\"請輸入姓名：\")\n",
        "sum=score=count=0\n",
        "while (score != -1):\n",
        "  score=int(input(\"輸入你的分數(輸入-1結束程式：\"))\n",
        "  if score == -1:\n",
        "    break\n",
        "  sum += score\n",
        "  count += 1\n",
        "average=sum/count\n",
        "print(\"%-10s, 你的平均分數是: %7.3f\" %(name,average)) #正號(+)靠右對齊,負號(-)靠左對期,10s代表字串長度最長為10,7.3f代表總寬度是7,整數位數是3,小數點是1,小數點後位數是3"
      ],
      "execution_count": null,
      "outputs": [
        {
          "output_type": "stream",
          "text": [
            "請輸入姓名：Tony\n",
            "輸入你的分數(輸入-1結束程式：120\n",
            "輸入你的分數(輸入-1結束程式：130\n",
            "輸入你的分數(輸入-1結束程式：140\n",
            "輸入你的分數(輸入-1結束程式：-1\n",
            "Tony      , 你的平均分數是: 130.000\n"
          ],
          "name": "stdout"
        }
      ]
    },
    {
      "cell_type": "markdown",
      "metadata": {
        "id": "A_NA9_OVGiSa"
      },
      "source": [
        "52  \n",
        "(開檔列印格式化)  \n",
        "(需新增staff.txt,資料用,分開)"
      ]
    },
    {
      "cell_type": "code",
      "metadata": {
        "colab": {
          "base_uri": "https://localhost:8080/"
        },
        "id": "wmW0ZN2YCfB6",
        "outputId": "d7d86840-a500-4a2d-f784-b1ad3de49d3c"
      },
      "source": [
        "import os #少了這行\n",
        "def print_cartable(file):\n",
        "  data=open(file,'r')\n",
        "  for record in data:\n",
        "    fields=record.split(\",\")\n",
        "    print(\"{0:10} {1:5.1f} {2:7.2f}\".format(fields[0], eval(fields[1]),eval(fields[2]))) #0,1,2代表後面哪一筆資料\n",
        "print_cartable(\"staff.txt\")"
      ],
      "execution_count": null,
      "outputs": [
        {
          "output_type": "stream",
          "text": [
            "Acar         2.0   95.00\n",
            "Bcar         1.5   72.00\n",
            "Ccar         2.5  120.10\n"
          ],
          "name": "stdout"
        }
      ]
    },
    {
      "cell_type": "markdown",
      "metadata": {
        "id": "Ik7AM5w1JZav"
      },
      "source": [
        "53  \n",
        "(列印格式化)  "
      ]
    },
    {
      "cell_type": "code",
      "metadata": {
        "colab": {
          "base_uri": "https://localhost:8080/"
        },
        "id": "PsCBwqpuIWd4",
        "outputId": "ba2def42-7df9-4532-c9f6-afd4367230ec"
      },
      "source": [
        "p_name=input(\"輸入名稱：\")\n",
        "p_qty=input(\"輸入數量：\")\n",
        "print('\"{0}\",{1}'.format(p_name,p_qty)) #format寫法\n",
        "print('\"'+ p_name + '\",' + p_qty) #字串相加+\n",
        "print('\"%s\",%s' % (p_name, p_qty)) #舊式%寫法\n",
        "print(\"{0},{1}\".format(p_name,p_qty)) #少了\"\n"
      ],
      "execution_count": null,
      "outputs": [
        {
          "output_type": "stream",
          "text": [
            "輸入名稱：box\n",
            "輸入數量：10\n",
            "\"box\",10\n",
            "\"box\",10\n",
            "\"box\",10\n",
            "box,10\n"
          ],
          "name": "stdout"
        }
      ]
    },
    {
      "cell_type": "markdown",
      "metadata": {
        "id": "Hf7XaJG1KlWr"
      },
      "source": [
        "54  \n",
        "(input應用)  "
      ]
    },
    {
      "cell_type": "code",
      "metadata": {
        "colab": {
          "base_uri": "https://localhost:8080/"
        },
        "id": "ZtdJxg9JKcP-",
        "outputId": "62fe7d5f-5145-4ee7-e8b8-945dab4bfe6d"
      },
      "source": [
        "print(\"請輸入年齡：\")\n",
        "user_age=input()\n",
        "print(user_age)"
      ],
      "execution_count": null,
      "outputs": [
        {
          "output_type": "stream",
          "text": [
            "請輸入年齡：\n",
            "20\n",
            "20\n"
          ],
          "name": "stdout"
        }
      ]
    },
    {
      "cell_type": "markdown",
      "metadata": {
        "id": "KJgMVMX3K-kZ"
      },
      "source": [
        "55  \n",
        "(註解#)"
      ]
    },
    {
      "cell_type": "code",
      "metadata": {
        "id": "hL-50A8CK7uD"
      },
      "source": [
        "def get_pname():\n",
        "  #顯示商品名稱\n",
        "  return pname"
      ],
      "execution_count": null,
      "outputs": []
    },
    {
      "cell_type": "markdown",
      "metadata": {
        "id": "cC4gqvAkLXxL"
      },
      "source": [
        "56  \n",
        "(註解#)"
      ]
    },
    {
      "cell_type": "markdown",
      "metadata": {
        "id": "3ZqQnq08LdOx"
      },
      "source": [
        "57  \n",
        "(字串內的#號)"
      ]
    },
    {
      "cell_type": "code",
      "metadata": {
        "id": "Ijkr_btyLWPp"
      },
      "source": [
        "#calc_times函式計算二數乘積\n",
        "#x是被乘數\n",
        "#y是乘數\n",
        "#返回x*y的值\n",
        "def cal_times(x,y):\n",
        "  comment=\"#返回值\"  #前面的#會被當作字串\n",
        "  return x*y  #x*y"
      ],
      "execution_count": null,
      "outputs": []
    },
    {
      "cell_type": "markdown",
      "metadata": {
        "id": "ICTc4dhmMLRo"
      },
      "source": [
        "58  \n",
        "(函式應用)"
      ]
    },
    {
      "cell_type": "code",
      "metadata": {
        "colab": {
          "base_uri": "https://localhost:8080/"
        },
        "id": "jsy9TgpTMKA6",
        "outputId": "bf35039f-d150-4c3a-ded0-d4db84d832b1"
      },
      "source": [
        "def get_name():\n",
        "  name=input(\"請輸入你的姓名：\")\n",
        "  return name\n",
        "def calc_calories(km,cpk):\n",
        "  calories=km*cpk\n",
        "  return calories\n",
        "distance = int(input(\"請問你騎了幾公里?\"))\n",
        "burn_rate=50\n",
        "biker=get_name()\n",
        "calories_burned=calc_calories(distance, burn_rate)\n",
        "print(biker,\",你燃燒了大約\", calories_burned,\"卡路里\")"
      ],
      "execution_count": null,
      "outputs": [
        {
          "output_type": "stream",
          "text": [
            "請問你騎了幾公里?10\n",
            "請輸入你的姓名：Tony\n",
            "Tony ,你燃燒了大約 500 卡路里\n"
          ],
          "name": "stdout"
        }
      ]
    },
    {
      "cell_type": "markdown",
      "metadata": {
        "id": "XGIBK0kWNjM5"
      },
      "source": [
        "59  \n",
        "(參數預設值應用)  \n",
        "(本題沒有題號，答案應該是A)"
      ]
    },
    {
      "cell_type": "code",
      "metadata": {
        "colab": {
          "base_uri": "https://localhost:8080/"
        },
        "id": "5Us_AJv4NJBl",
        "outputId": "48c06e40-c9bf-4ced-eedb-b8d050965347"
      },
      "source": [
        "def calc_score(total, double, scores=1):\n",
        "  if double==True:\n",
        "    scores=scores*2\n",
        "  total=total+scores\n",
        "  return total\n",
        "scores=5\n",
        "total=10\n",
        "new_score=calc_score(total, True, scores)\n",
        "print(new_score)\n",
        "new_score=calc_score(total,True)\n",
        "print(new_score)"
      ],
      "execution_count": null,
      "outputs": [
        {
          "output_type": "stream",
          "text": [
            "20\n",
            "12\n"
          ],
          "name": "stdout"
        }
      ]
    },
    {
      "cell_type": "markdown",
      "metadata": {
        "id": "Iu5_SqrSP0UQ"
      },
      "source": [
        "60  \n",
        "(函式應用)"
      ]
    },
    {
      "cell_type": "code",
      "metadata": {
        "colab": {
          "base_uri": "https://localhost:8080/"
        },
        "id": "wVxnsamvOp-R",
        "outputId": "78b6da94-01a5-4a7d-95d9-cd612157c120"
      },
      "source": [
        "def add_score(current, value):\n",
        "  current += value\n",
        "  return current\n",
        "print(add_score(80,10))"
      ],
      "execution_count": null,
      "outputs": [
        {
          "output_type": "stream",
          "text": [
            "90\n"
          ],
          "name": "stdout"
        }
      ]
    },
    {
      "cell_type": "markdown",
      "metadata": {
        "id": "RMboXSoOQn6i"
      },
      "source": [
        "61  \n",
        "(try except應用)"
      ]
    },
    {
      "cell_type": "code",
      "metadata": {
        "colab": {
          "base_uri": "https://localhost:8080/"
        },
        "id": "0-3SyLPTQRaO",
        "outputId": "f03a6e71-8e2a-4197-c0c9-2c8a4c3c2654"
      },
      "source": [
        "try: \n",
        "  file1=open(\"file1.txt\", 'r') #開檔案來讀取\n",
        "  file2=open(\"file2.txt\", 'w+') #開檔案來寫入，若存在則覆蓋 \n",
        "except IOError:\n",
        "  print(\"檔案不存在\")\n",
        "else:\n",
        "  i=1\n",
        "  for line in file1:\n",
        "    print(line.rstrip())\n",
        "    file2.write(\"line \" + str(i) + \":\" + line)\n",
        "    i=i+1\n",
        "  file1.close()\n",
        "  file2.close()\n"
      ],
      "execution_count": null,
      "outputs": [
        {
          "output_type": "stream",
          "text": [
            "檔案不存在\n"
          ],
          "name": "stdout"
        }
      ]
    },
    {
      "cell_type": "markdown",
      "metadata": {
        "id": "Rzgv0-K-RuPg"
      },
      "source": [
        "62  \n",
        "(錯誤偵錯)"
      ]
    },
    {
      "cell_type": "code",
      "metadata": {
        "id": "K0Sdy37NRWlM",
        "colab": {
          "base_uri": "https://localhost:8080/",
          "height": 131
        },
        "outputId": "93619351-6bc9-496f-e39b-692a454a1beb"
      },
      "source": [
        "import math\n",
        "#default motion for car\n",
        "go = True\n",
        "move = 0\n",
        "while(go):\n",
        "  if move == 0: #原始沒有縮排\n",
        "  go_dist = math.pi / move #會產生除以0的錯誤\n",
        "  move += 5\n",
        "else:\n",
        "  go_dist =0\n",
        "  move = 0\n"
      ],
      "execution_count": 2,
      "outputs": [
        {
          "output_type": "error",
          "ename": "IndentationError",
          "evalue": "ignored",
          "traceback": [
            "\u001b[0;36m  File \u001b[0;32m\"<ipython-input-2-0fa50c6affad>\"\u001b[0;36m, line \u001b[0;32m7\u001b[0m\n\u001b[0;31m    go_dist = math.pi / move #會產生除以0的錯誤\u001b[0m\n\u001b[0m          ^\u001b[0m\n\u001b[0;31mIndentationError\u001b[0m\u001b[0;31m:\u001b[0m expected an indented block\n"
          ]
        }
      ]
    },
    {
      "cell_type": "markdown",
      "metadata": {
        "id": "Crdpr1jymhEr"
      },
      "source": [
        "63  \n",
        "(range函式與//應用)"
      ]
    },
    {
      "cell_type": "code",
      "metadata": {
        "colab": {
          "base_uri": "https://localhost:8080/"
        },
        "id": "6DUhTjDsm0H4",
        "outputId": "d2c26cb0-8189-45db-a09a-fb2c0a91c9cd"
      },
      "source": [
        "scores=[90,80,82,76]\n",
        "count=0\n",
        "sum=0\n",
        "for index in range(0, len(scores)): #range函式(起始點,不包含終止點)\n",
        "  count += 1\n",
        "  sum += scores[index]\n",
        "average = sum / count #//是求餘數,/才是除法\n",
        "print(\"總計分數是：\",sum)\n",
        "print(\"平均分數是：\", average)"
      ],
      "execution_count": 1,
      "outputs": [
        {
          "output_type": "stream",
          "text": [
            "總計分數是： 328\n",
            "平均分數是： 82.0\n"
          ],
          "name": "stdout"
        }
      ]
    },
    {
      "cell_type": "markdown",
      "metadata": {
        "id": "tGJHYF26ozYa"
      },
      "source": [
        "64  \n",
        "(縮排應用)  \n",
        "(準備usefile.txt)"
      ]
    },
    {
      "cell_type": "code",
      "metadata": {
        "colab": {
          "base_uri": "https://localhost:8080/"
        },
        "id": "PwZUgjZ3nvLP",
        "outputId": "8bc667de-c9f3-4d93-c184-bb5f5df73669"
      },
      "source": [
        "import os\n",
        "def read_filename(file):\n",
        "  line= None\n",
        "  if os.path.isfile(file):\n",
        "    readfile = open(file, 'r')\n",
        "    while line != '':  #此處應該縮排\n",
        "      line=readfile.readline() #此處應該縮排\n",
        "      print(line)       #此處應該縮排  \n",
        "read_filename(\"usefile.txt\")"
      ],
      "execution_count": 5,
      "outputs": [
        {
          "output_type": "stream",
          "text": [
            "test1\n",
            "\n",
            "test2\n",
            "\n",
            "\n",
            "\n",
            "test3 \n",
            "\n"
          ],
          "name": "stdout"
        }
      ]
    },
    {
      "cell_type": "markdown",
      "metadata": {
        "id": "Z6pg85Bap-8h"
      },
      "source": [
        "65  \n",
        "(list使用方式為[], 以及:應用)"
      ]
    },
    {
      "cell_type": "code",
      "metadata": {
        "colab": {
          "base_uri": "https://localhost:8080/"
        },
        "id": "ii4jFAy0pydW",
        "outputId": "c512bee3-e498-47bf-dc7c-de3118aa5742"
      },
      "source": [
        "nList = range(10)\n",
        "no = 0\n",
        "while (no<10): #少了:\n",
        "  print(nList[no])\n",
        "  if nList[no] == 5: #nlist(no)改成nList[no], =改成==, 少了:\n",
        "    break\n",
        "  else:\n",
        "    no += 3"
      ],
      "execution_count": 8,
      "outputs": [
        {
          "output_type": "stream",
          "text": [
            "0\n",
            "3\n",
            "6\n",
            "9\n"
          ],
          "name": "stdout"
        }
      ]
    },
    {
      "cell_type": "markdown",
      "metadata": {
        "id": "-crz-maSq3IJ"
      },
      "source": [
        "66  \n",
        "(try except finally應用)"
      ]
    },
    {
      "cell_type": "code",
      "metadata": {
        "id": "ks7BsHtFqa_d"
      },
      "source": [
        "#try:\n",
        "#  運算式\n",
        "#except 錯誤情況1:\n",
        "#  處理方式1\n",
        "#except 錯誤情況2:\n",
        "#  處理方式2\n",
        "#  ...\n",
        "#finally:\n",
        "#  一定會執行到的命令"
      ],
      "execution_count": 9,
      "outputs": []
    },
    {
      "cell_type": "markdown",
      "metadata": {
        "id": "abzOnLBKr0mw"
      },
      "source": [
        "67  \n",
        "(try except錯誤處理)"
      ]
    },
    {
      "cell_type": "code",
      "metadata": {
        "colab": {
          "base_uri": "https://localhost:8080/",
          "height": 631
        },
        "id": "uzoJEgNxryRz",
        "outputId": "043beb67-cb51-464f-aaa0-bd985e5d76aa"
      },
      "source": [
        "while True:\n",
        "  try:\n",
        "    x=int(input(\"請輸入一個被除數：\"))\n",
        "    y=int(input(\"請輸入一個除數：\"))\n",
        "    result = x / y\n",
        "  except ZeroDivisionError:\n",
        "    print(\"除數不能為零，再試一次...\")\n",
        "  else:\n",
        "    print(result)\n"
      ],
      "execution_count": 17,
      "outputs": [
        {
          "output_type": "stream",
          "text": [
            "請輸入一個被除數：10\n",
            "請輸入一個除數：0\n",
            "除數不能為零，再試一次...\n",
            "請輸入一個被除數：10\n",
            "請輸入一個除數：2\n",
            "5.0\n"
          ],
          "name": "stdout"
        },
        {
          "output_type": "error",
          "ename": "KeyboardInterrupt",
          "evalue": "ignored",
          "traceback": [
            "\u001b[0;31m---------------------------------------------------------------------------\u001b[0m",
            "\u001b[0;31mKeyboardInterrupt\u001b[0m                         Traceback (most recent call last)",
            "\u001b[0;32m/usr/local/lib/python3.7/dist-packages/ipykernel/kernelbase.py\u001b[0m in \u001b[0;36m_input_request\u001b[0;34m(self, prompt, ident, parent, password)\u001b[0m\n\u001b[1;32m    728\u001b[0m             \u001b[0;32mtry\u001b[0m\u001b[0;34m:\u001b[0m\u001b[0;34m\u001b[0m\u001b[0;34m\u001b[0m\u001b[0m\n\u001b[0;32m--> 729\u001b[0;31m                 \u001b[0mident\u001b[0m\u001b[0;34m,\u001b[0m \u001b[0mreply\u001b[0m \u001b[0;34m=\u001b[0m \u001b[0mself\u001b[0m\u001b[0;34m.\u001b[0m\u001b[0msession\u001b[0m\u001b[0;34m.\u001b[0m\u001b[0mrecv\u001b[0m\u001b[0;34m(\u001b[0m\u001b[0mself\u001b[0m\u001b[0;34m.\u001b[0m\u001b[0mstdin_socket\u001b[0m\u001b[0;34m,\u001b[0m \u001b[0;36m0\u001b[0m\u001b[0;34m)\u001b[0m\u001b[0;34m\u001b[0m\u001b[0;34m\u001b[0m\u001b[0m\n\u001b[0m\u001b[1;32m    730\u001b[0m             \u001b[0;32mexcept\u001b[0m \u001b[0mException\u001b[0m\u001b[0;34m:\u001b[0m\u001b[0;34m\u001b[0m\u001b[0;34m\u001b[0m\u001b[0m\n",
            "\u001b[0;32m/usr/local/lib/python3.7/dist-packages/jupyter_client/session.py\u001b[0m in \u001b[0;36mrecv\u001b[0;34m(self, socket, mode, content, copy)\u001b[0m\n\u001b[1;32m    802\u001b[0m         \u001b[0;32mtry\u001b[0m\u001b[0;34m:\u001b[0m\u001b[0;34m\u001b[0m\u001b[0;34m\u001b[0m\u001b[0m\n\u001b[0;32m--> 803\u001b[0;31m             \u001b[0mmsg_list\u001b[0m \u001b[0;34m=\u001b[0m \u001b[0msocket\u001b[0m\u001b[0;34m.\u001b[0m\u001b[0mrecv_multipart\u001b[0m\u001b[0;34m(\u001b[0m\u001b[0mmode\u001b[0m\u001b[0;34m,\u001b[0m \u001b[0mcopy\u001b[0m\u001b[0;34m=\u001b[0m\u001b[0mcopy\u001b[0m\u001b[0;34m)\u001b[0m\u001b[0;34m\u001b[0m\u001b[0;34m\u001b[0m\u001b[0m\n\u001b[0m\u001b[1;32m    804\u001b[0m         \u001b[0;32mexcept\u001b[0m \u001b[0mzmq\u001b[0m\u001b[0;34m.\u001b[0m\u001b[0mZMQError\u001b[0m \u001b[0;32mas\u001b[0m \u001b[0me\u001b[0m\u001b[0;34m:\u001b[0m\u001b[0;34m\u001b[0m\u001b[0;34m\u001b[0m\u001b[0m\n",
            "\u001b[0;32m/usr/local/lib/python3.7/dist-packages/zmq/sugar/socket.py\u001b[0m in \u001b[0;36mrecv_multipart\u001b[0;34m(self, flags, copy, track)\u001b[0m\n\u001b[1;32m    582\u001b[0m         \"\"\"\n\u001b[0;32m--> 583\u001b[0;31m         \u001b[0mparts\u001b[0m \u001b[0;34m=\u001b[0m \u001b[0;34m[\u001b[0m\u001b[0mself\u001b[0m\u001b[0;34m.\u001b[0m\u001b[0mrecv\u001b[0m\u001b[0;34m(\u001b[0m\u001b[0mflags\u001b[0m\u001b[0;34m,\u001b[0m \u001b[0mcopy\u001b[0m\u001b[0;34m=\u001b[0m\u001b[0mcopy\u001b[0m\u001b[0;34m,\u001b[0m \u001b[0mtrack\u001b[0m\u001b[0;34m=\u001b[0m\u001b[0mtrack\u001b[0m\u001b[0;34m)\u001b[0m\u001b[0;34m]\u001b[0m\u001b[0;34m\u001b[0m\u001b[0;34m\u001b[0m\u001b[0m\n\u001b[0m\u001b[1;32m    584\u001b[0m         \u001b[0;31m# have first part already, only loop while more to receive\u001b[0m\u001b[0;34m\u001b[0m\u001b[0;34m\u001b[0m\u001b[0;34m\u001b[0m\u001b[0m\n",
            "\u001b[0;32mzmq/backend/cython/socket.pyx\u001b[0m in \u001b[0;36mzmq.backend.cython.socket.Socket.recv\u001b[0;34m()\u001b[0m\n",
            "\u001b[0;32mzmq/backend/cython/socket.pyx\u001b[0m in \u001b[0;36mzmq.backend.cython.socket.Socket.recv\u001b[0;34m()\u001b[0m\n",
            "\u001b[0;32mzmq/backend/cython/socket.pyx\u001b[0m in \u001b[0;36mzmq.backend.cython.socket._recv_copy\u001b[0;34m()\u001b[0m\n",
            "\u001b[0;32m/usr/local/lib/python3.7/dist-packages/zmq/backend/cython/checkrc.pxd\u001b[0m in \u001b[0;36mzmq.backend.cython.checkrc._check_rc\u001b[0;34m()\u001b[0m\n",
            "\u001b[0;31mKeyboardInterrupt\u001b[0m: ",
            "\nDuring handling of the above exception, another exception occurred:\n",
            "\u001b[0;31mKeyboardInterrupt\u001b[0m                         Traceback (most recent call last)",
            "\u001b[0;32m<ipython-input-17-c783a886fa46>\u001b[0m in \u001b[0;36m<module>\u001b[0;34m()\u001b[0m\n\u001b[1;32m      1\u001b[0m \u001b[0;32mwhile\u001b[0m \u001b[0;32mTrue\u001b[0m\u001b[0;34m:\u001b[0m\u001b[0;34m\u001b[0m\u001b[0;34m\u001b[0m\u001b[0m\n\u001b[1;32m      2\u001b[0m   \u001b[0;32mtry\u001b[0m\u001b[0;34m:\u001b[0m\u001b[0;34m\u001b[0m\u001b[0;34m\u001b[0m\u001b[0m\n\u001b[0;32m----> 3\u001b[0;31m     \u001b[0mx\u001b[0m\u001b[0;34m=\u001b[0m\u001b[0mint\u001b[0m\u001b[0;34m(\u001b[0m\u001b[0minput\u001b[0m\u001b[0;34m(\u001b[0m\u001b[0;34m\"請輸入一個被除數：\"\u001b[0m\u001b[0;34m)\u001b[0m\u001b[0;34m)\u001b[0m\u001b[0;34m\u001b[0m\u001b[0;34m\u001b[0m\u001b[0m\n\u001b[0m\u001b[1;32m      4\u001b[0m     \u001b[0my\u001b[0m\u001b[0;34m=\u001b[0m\u001b[0mint\u001b[0m\u001b[0;34m(\u001b[0m\u001b[0minput\u001b[0m\u001b[0;34m(\u001b[0m\u001b[0;34m\"請輸入一個除數：\"\u001b[0m\u001b[0;34m)\u001b[0m\u001b[0;34m)\u001b[0m\u001b[0;34m\u001b[0m\u001b[0;34m\u001b[0m\u001b[0m\n\u001b[1;32m      5\u001b[0m     \u001b[0mresult\u001b[0m \u001b[0;34m=\u001b[0m \u001b[0mx\u001b[0m \u001b[0;34m/\u001b[0m \u001b[0my\u001b[0m\u001b[0;34m\u001b[0m\u001b[0;34m\u001b[0m\u001b[0m\n",
            "\u001b[0;32m/usr/local/lib/python3.7/dist-packages/ipykernel/kernelbase.py\u001b[0m in \u001b[0;36mraw_input\u001b[0;34m(self, prompt)\u001b[0m\n\u001b[1;32m    702\u001b[0m             \u001b[0mself\u001b[0m\u001b[0;34m.\u001b[0m\u001b[0m_parent_ident\u001b[0m\u001b[0;34m,\u001b[0m\u001b[0;34m\u001b[0m\u001b[0;34m\u001b[0m\u001b[0m\n\u001b[1;32m    703\u001b[0m             \u001b[0mself\u001b[0m\u001b[0;34m.\u001b[0m\u001b[0m_parent_header\u001b[0m\u001b[0;34m,\u001b[0m\u001b[0;34m\u001b[0m\u001b[0;34m\u001b[0m\u001b[0m\n\u001b[0;32m--> 704\u001b[0;31m             \u001b[0mpassword\u001b[0m\u001b[0;34m=\u001b[0m\u001b[0;32mFalse\u001b[0m\u001b[0;34m,\u001b[0m\u001b[0;34m\u001b[0m\u001b[0;34m\u001b[0m\u001b[0m\n\u001b[0m\u001b[1;32m    705\u001b[0m         )\n\u001b[1;32m    706\u001b[0m \u001b[0;34m\u001b[0m\u001b[0m\n",
            "\u001b[0;32m/usr/local/lib/python3.7/dist-packages/ipykernel/kernelbase.py\u001b[0m in \u001b[0;36m_input_request\u001b[0;34m(self, prompt, ident, parent, password)\u001b[0m\n\u001b[1;32m    732\u001b[0m             \u001b[0;32mexcept\u001b[0m \u001b[0mKeyboardInterrupt\u001b[0m\u001b[0;34m:\u001b[0m\u001b[0;34m\u001b[0m\u001b[0;34m\u001b[0m\u001b[0m\n\u001b[1;32m    733\u001b[0m                 \u001b[0;31m# re-raise KeyboardInterrupt, to truncate traceback\u001b[0m\u001b[0;34m\u001b[0m\u001b[0;34m\u001b[0m\u001b[0;34m\u001b[0m\u001b[0m\n\u001b[0;32m--> 734\u001b[0;31m                 \u001b[0;32mraise\u001b[0m \u001b[0mKeyboardInterrupt\u001b[0m\u001b[0;34m\u001b[0m\u001b[0;34m\u001b[0m\u001b[0m\n\u001b[0m\u001b[1;32m    735\u001b[0m             \u001b[0;32melse\u001b[0m\u001b[0;34m:\u001b[0m\u001b[0;34m\u001b[0m\u001b[0;34m\u001b[0m\u001b[0m\n\u001b[1;32m    736\u001b[0m                 \u001b[0;32mbreak\u001b[0m\u001b[0;34m\u001b[0m\u001b[0;34m\u001b[0m\u001b[0m\n",
            "\u001b[0;31mKeyboardInterrupt\u001b[0m: "
          ]
        }
      ]
    },
    {
      "cell_type": "markdown",
      "metadata": {
        "id": "novLL9Npznpx"
      },
      "source": [
        "68  \n",
        "(import as應用)"
      ]
    },
    {
      "cell_type": "code",
      "metadata": {
        "id": "h5-KoRW4sZg8"
      },
      "source": [
        "from random import randint as rt"
      ],
      "execution_count": 18,
      "outputs": []
    },
    {
      "cell_type": "markdown",
      "metadata": {
        "id": "hrohYLfv1PR5"
      },
      "source": [
        "69  \n",
        "(os函式應用)"
      ]
    },
    {
      "cell_type": "code",
      "metadata": {
        "colab": {
          "base_uri": "https://localhost:8080/"
        },
        "id": "qbzFxPr_1N2F",
        "outputId": "f5a69b24-218b-4eb0-92cd-e9c9e347b1e9"
      },
      "source": [
        "import os\n",
        "def print_file(filename):\n",
        "  line=None\n",
        "  if os.path.isfile(filename): #檔案存在是isfile函式,不存在isexit\n",
        "    data = open(filename, 'r')\n",
        "    for line in data:\n",
        "      print(line)\n",
        "print_file('usefile.txt')"
      ],
      "execution_count": 22,
      "outputs": [
        {
          "output_type": "stream",
          "text": [
            "test1\n",
            "\n",
            "test2\n",
            "\n",
            "\n",
            "\n",
            "test3 \n"
          ],
          "name": "stdout"
        }
      ]
    },
    {
      "cell_type": "markdown",
      "metadata": {
        "id": "zwz-PnJ72ona"
      },
      "source": [
        "70  \n",
        "(random套件應用) \n",
        "* random.randrange(a, b, c)  \n",
        "返回開區間[a,b),間隔c之數字 \n",
        "* random.randint(a, b)  \n",
        "返回閉區間[a, b]範圍内的整数值  \n",
        "* numpy.random.randint(a, b)  \n",
        "返回開區間[a, b)範圍内的整数值"
      ]
    },
    {
      "cell_type": "code",
      "metadata": {
        "colab": {
          "base_uri": "https://localhost:8080/"
        },
        "id": "57gSbOvN138-",
        "outputId": "f4b7c563-ff8d-4b97-f9cf-8119c45d58d0"
      },
      "source": [
        "import random\n",
        "data=random.randrange(1,11,1) #包含1不包含11,產生1個隨機數字\n",
        "print(data)\n",
        "data=random.randint(1,10) #包含1~10的隨機數字\n",
        "print(data)"
      ],
      "execution_count": 24,
      "outputs": [
        {
          "output_type": "stream",
          "text": [
            "5\n",
            "8\n"
          ],
          "name": "stdout"
        }
      ]
    },
    {
      "cell_type": "markdown",
      "metadata": {
        "id": "cuqw3rP85CQa"
      },
      "source": [
        "71  \n",
        "(random函式應用"
      ]
    },
    {
      "cell_type": "code",
      "metadata": {
        "colab": {
          "base_uri": "https://localhost:8080/"
        },
        "id": "eptF9Mw73BaG",
        "outputId": "7c019226-4559-41e1-80ed-d6a772748c45"
      },
      "source": [
        "import random\n",
        "print(random.random())"
      ],
      "execution_count": 25,
      "outputs": [
        {
          "output_type": "stream",
          "text": [
            "0.6622386669407512\n"
          ],
          "name": "stdout"
        }
      ]
    },
    {
      "cell_type": "markdown",
      "metadata": {
        "id": "Fu71pDMR5e1g"
      },
      "source": [
        "72  \n",
        "(random套件應用)"
      ]
    },
    {
      "cell_type": "code",
      "metadata": {
        "colab": {
          "base_uri": "https://localhost:8080/"
        },
        "id": "69yQ9osN5dAe",
        "outputId": "f825885b-76ba-4857-9266-5e4cd1854a8b"
      },
      "source": [
        "from random import randint\n",
        "print(randint(0,10)*5)\n",
        "from random import randrange\n",
        "print(randrange(0,51,5))"
      ],
      "execution_count": 27,
      "outputs": [
        {
          "output_type": "stream",
          "text": [
            "45\n",
            "25\n"
          ],
          "name": "stdout"
        }
      ]
    },
    {
      "cell_type": "markdown",
      "metadata": {
        "id": "T1TnWkYn6EFB"
      },
      "source": [
        "73  \n",
        "(math套件應用)"
      ]
    },
    {
      "cell_type": "code",
      "metadata": {
        "colab": {
          "base_uri": "https://localhost:8080/"
        },
        "id": "8LS3383q57X0",
        "outputId": "d97a363a-23d5-43a4-c58b-e1873225b697"
      },
      "source": [
        "import math\n",
        "x=-5.33\n",
        "x=math.fabs(x) #取絕對值\n",
        "print(x)\n",
        "x=math.floor(x) #低於x且最接近的整數\n",
        "print(x)"
      ],
      "execution_count": 28,
      "outputs": [
        {
          "output_type": "stream",
          "text": [
            "5.33\n",
            "5\n"
          ],
          "name": "stdout"
        }
      ]
    },
    {
      "cell_type": "code",
      "metadata": {
        "id": "k7z6eHL87AEL"
      },
      "source": [
        ""
      ],
      "execution_count": null,
      "outputs": []
    }
  ]
}